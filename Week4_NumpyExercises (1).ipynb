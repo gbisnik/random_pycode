{
 "cells": [
  {
   "cell_type": "code",
   "execution_count": 5,
   "metadata": {},
   "outputs": [
    {
     "name": "stdout",
     "output_type": "stream",
     "text": [
      "my array is: \n",
      "[[ 7  8  9]\n",
      " [10 11 12]]\n",
      "my array shape is:  (2, 3)\n"
     ]
    }
   ],
   "source": [
    "import numpy as np\n",
    "#question 1: write python code to produce the following output using numpy:\n"
   ]
  },
  {
   "cell_type": "code",
   "execution_count": 3,
   "metadata": {},
   "outputs": [
    {
     "name": "stdout",
     "output_type": "stream",
     "text": [
      "my array is: \n",
      "[[ 7  8  9]\n",
      " [10 11 12]]\n",
      "my array shape is:   (2, 3)\n"
     ]
    }
   ],
   "source": [
    "#question 1: your answer goes here..\n",
    "import numpy as np\n",
    "arr = np.array([[7,8,9], [10,11,12]])\n",
    "print(\"my array is: \")\n",
    "print (arr)\n",
    "print(\"my array shape is:  \",arr.shape)"
   ]
  },
  {
   "cell_type": "code",
   "execution_count": null,
   "metadata": {
    "collapsed": true,
    "jupyter": {
     "outputs_hidden": true
    }
   },
   "outputs": [],
   "source": [
    "#question 1 answer: \n",
    "m=np.array([[7,8,9], [10,11,12]])\n",
    "print(\"my array is: \")\n",
    "print(m)\n",
    "print(\"my array shape is: \",m.shape)"
   ]
  },
  {
   "cell_type": "code",
   "execution_count": 6,
   "metadata": {},
   "outputs": [
    {
     "data": {
      "text/plain": [
       "array([[ 0,  2,  4,  6,  8],\n",
       "       [10, 12, 14, 16, 18],\n",
       "       [20, 22, 24, 26, 28]])"
      ]
     },
     "execution_count": 6,
     "metadata": {},
     "output_type": "execute_result"
    }
   ],
   "source": [
    "#question 2: produce the following output: \n"
   ]
  },
  {
   "cell_type": "code",
   "execution_count": 7,
   "metadata": {
    "tags": []
   },
   "outputs": [
    {
     "data": {
      "text/plain": [
       "array([[ 0,  2,  4,  6,  8],\n",
       "       [10, 12, 14, 16, 18],\n",
       "       [20, 22, 24, 26, 28]])"
      ]
     },
     "execution_count": 7,
     "metadata": {},
     "output_type": "execute_result"
    }
   ],
   "source": [
    "#question 2: your answer goes here..\n",
    "n=np.arange(0,30,2)\n",
    "n\n",
    "o=n.reshape(3,5)\n",
    "o"
   ]
  },
  {
   "cell_type": "code",
   "execution_count": null,
   "metadata": {
    "collapsed": true,
    "jupyter": {
     "outputs_hidden": true
    }
   },
   "outputs": [],
   "source": [
    "#question 2 answer: \n",
    "n=np.arange(0,30,2)\n",
    "n\n",
    "o=n.reshape(3,5)\n",
    "o"
   ]
  },
  {
   "cell_type": "code",
   "execution_count": 7,
   "metadata": {},
   "outputs": [
    {
     "data": {
      "text/plain": [
       "array([ 0. ,  0.5,  1. ,  1.5,  2. ,  2.5,  3. ,  3.5,  4. ])"
      ]
     },
     "execution_count": 7,
     "metadata": {},
     "output_type": "execute_result"
    }
   ],
   "source": [
    "#question 3: write python code to display 9 numbers from 0 to 4 with an equal step size\n",
    "#to produce the following output: \n",
    "\n",
    "\n"
   ]
  },
  {
   "cell_type": "code",
   "execution_count": 8,
   "metadata": {
    "tags": []
   },
   "outputs": [
    {
     "data": {
      "text/plain": [
       "array([0. , 0.5, 1. , 1.5, 2. , 2.5, 3. , 3.5, 4. ])"
      ]
     },
     "execution_count": 8,
     "metadata": {},
     "output_type": "execute_result"
    }
   ],
   "source": [
    "#question 3: your answer goes here..\n",
    "o=np.linspace(0,4,9)\n",
    "o"
   ]
  },
  {
   "cell_type": "code",
   "execution_count": null,
   "metadata": {
    "collapsed": true,
    "jupyter": {
     "outputs_hidden": true
    }
   },
   "outputs": [],
   "source": [
    "#question 3 answer: \n",
    "o=np.linspace(0,4,9)\n",
    "o"
   ]
  },
  {
   "cell_type": "code",
   "execution_count": 8,
   "metadata": {},
   "outputs": [
    {
     "data": {
      "text/plain": [
       "array([[1, 0, 0],\n",
       "       [0, 2, 0],\n",
       "       [0, 0, 3]])"
      ]
     },
     "execution_count": 8,
     "metadata": {},
     "output_type": "execute_result"
    }
   ],
   "source": [
    "#question 4: write python code to produce the following output in 2 lines of code: \n"
   ]
  },
  {
   "cell_type": "code",
   "execution_count": 9,
   "metadata": {
    "tags": []
   },
   "outputs": [
    {
     "data": {
      "text/plain": [
       "array([[1, 0, 0],\n",
       "       [0, 2, 0],\n",
       "       [0, 0, 3]])"
      ]
     },
     "execution_count": 9,
     "metadata": {},
     "output_type": "execute_result"
    }
   ],
   "source": [
    "#question 4: your answer goes here..\n",
    "mylist=[1,2,3]\n",
    "np.diag(mylist)"
   ]
  },
  {
   "cell_type": "code",
   "execution_count": null,
   "metadata": {
    "collapsed": true,
    "jupyter": {
     "outputs_hidden": true
    }
   },
   "outputs": [],
   "source": [
    "#question 4 answer: \n",
    "mylist=[1,2,3]\n",
    "np.diag(mylist)"
   ]
  },
  {
   "cell_type": "code",
   "execution_count": 9,
   "metadata": {},
   "outputs": [
    {
     "data": {
      "text/plain": [
       "array([[1, 1, 1],\n",
       "       [1, 1, 1],\n",
       "       [2, 2, 2],\n",
       "       [2, 2, 2]])"
      ]
     },
     "execution_count": 9,
     "metadata": {},
     "output_type": "execute_result"
    }
   ],
   "source": [
    "#question 5: write python code to display the following output in 2 lines of code: \n",
    "\n"
   ]
  },
  {
   "cell_type": "code",
   "execution_count": 10,
   "metadata": {
    "tags": []
   },
   "outputs": [
    {
     "data": {
      "text/plain": [
       "array([[1, 1, 1],\n",
       "       [1, 1, 1],\n",
       "       [2, 2, 2],\n",
       "       [2, 2, 2]])"
      ]
     },
     "execution_count": 10,
     "metadata": {},
     "output_type": "execute_result"
    }
   ],
   "source": [
    "#question 5: your answer goes here..\n",
    "p=np.ones([2,3],int)\n",
    "np.vstack([p,2*p])"
   ]
  },
  {
   "cell_type": "code",
   "execution_count": null,
   "metadata": {
    "collapsed": true,
    "jupyter": {
     "outputs_hidden": true
    }
   },
   "outputs": [],
   "source": [
    "#question 5 answer: \n",
    "p=np.ones([2,3],int)\n",
    "np.vstack([p,2*p])"
   ]
  },
  {
   "cell_type": "code",
   "execution_count": 13,
   "metadata": {},
   "outputs": [
    {
     "data": {
      "text/plain": [
       "array([64, 36, 16,  4,  0])"
      ]
     },
     "execution_count": 13,
     "metadata": {},
     "output_type": "execute_result"
    }
   ],
   "source": [
    "#question 6: consider the following array s, defined as follows:\n",
    "s = np.arange(13)**2\n",
    "#write python code to display the following subset of array s:\n"
   ]
  },
  {
   "cell_type": "code",
   "execution_count": 13,
   "metadata": {
    "tags": []
   },
   "outputs": [
    {
     "data": {
      "text/plain": [
       "array([64, 36, 16,  4,  0], dtype=int32)"
      ]
     },
     "execution_count": 13,
     "metadata": {},
     "output_type": "execute_result"
    }
   ],
   "source": [
    "#question 6: your answer goes here..\n",
    "s = np.arange(13)**2\n",
    "s[-5::-2] "
   ]
  },
  {
   "cell_type": "code",
   "execution_count": null,
   "metadata": {
    "collapsed": true,
    "jupyter": {
     "outputs_hidden": true
    }
   },
   "outputs": [],
   "source": [
    "#question 6 answer: \n",
    "s[-5::-2] "
   ]
  },
  {
   "cell_type": "code",
   "execution_count": 15,
   "metadata": {},
   "outputs": [
    {
     "data": {
      "text/plain": [
       "array([[ 0,  1,  2,  3,  4,  5],\n",
       "       [ 6,  7,  8,  9, 10, 11],\n",
       "       [12, 13, 14, 15, 16, 17],\n",
       "       [18, 19, 20, 21, 22, 23],\n",
       "       [24, 25, 26, 27, 28, 29],\n",
       "       [30, 31, 32, 33, 34, 35]])"
      ]
     },
     "execution_count": 15,
     "metadata": {},
     "output_type": "execute_result"
    }
   ],
   "source": [
    "#question 7: consider the following 2-d numpy array, r:\n",
    "r=np.arange(36) #from 0 to 35\n",
    "r\n",
    "r.resize((6,6))\n",
    "r\n",
    "#write code to produce the following output from this array r: \n"
   ]
  },
  {
   "cell_type": "code",
   "execution_count": 16,
   "metadata": {
    "tags": []
   },
   "outputs": [
    {
     "name": "stdout",
     "output_type": "stream",
     "text": [
      "row 0 is [0 1 2 3 4 5]\n",
      "[0 1 2 3 4 5]\n",
      "[ 6  7  8  9 10 11]\n",
      "[12 13 14 15 16 17]\n",
      "[18 19 20 21 22 23]\n",
      "[24 25 26 27 28 29]\n",
      "[30 31 32 33 34 35]\n",
      "row 1 is [ 6  7  8  9 10 11]\n",
      "[0 1 2 3 4 5]\n",
      "[ 6  7  8  9 10 11]\n",
      "[12 13 14 15 16 17]\n",
      "[18 19 20 21 22 23]\n",
      "[24 25 26 27 28 29]\n",
      "[30 31 32 33 34 35]\n",
      "row 2 is [12 13 14 15 16 17]\n",
      "[0 1 2 3 4 5]\n",
      "[ 6  7  8  9 10 11]\n",
      "[12 13 14 15 16 17]\n",
      "[18 19 20 21 22 23]\n",
      "[24 25 26 27 28 29]\n",
      "[30 31 32 33 34 35]\n",
      "row 3 is [18 19 20 21 22 23]\n",
      "[0 1 2 3 4 5]\n",
      "[ 6  7  8  9 10 11]\n",
      "[12 13 14 15 16 17]\n",
      "[18 19 20 21 22 23]\n",
      "[24 25 26 27 28 29]\n",
      "[30 31 32 33 34 35]\n",
      "row 4 is [24 25 26 27 28 29]\n",
      "[0 1 2 3 4 5]\n",
      "[ 6  7  8  9 10 11]\n",
      "[12 13 14 15 16 17]\n",
      "[18 19 20 21 22 23]\n",
      "[24 25 26 27 28 29]\n",
      "[30 31 32 33 34 35]\n",
      "row 5 is [30 31 32 33 34 35]\n",
      "[0 1 2 3 4 5]\n",
      "[ 6  7  8  9 10 11]\n",
      "[12 13 14 15 16 17]\n",
      "[18 19 20 21 22 23]\n",
      "[24 25 26 27 28 29]\n",
      "[30 31 32 33 34 35]\n"
     ]
    }
   ],
   "source": [
    "#question 7: your answer goes here..\n",
    "for i, row in enumerate(r):\n",
    "    print('row', i, 'is', row)\n",
    "    for row in r: \n",
    "            print(row)"
   ]
  },
  {
   "cell_type": "code",
   "execution_count": null,
   "metadata": {
    "collapsed": true,
    "jupyter": {
     "outputs_hidden": true
    }
   },
   "outputs": [],
   "source": [
    "#question 7: answer\n",
    "for i, row in enumerate(r):\n",
    "    print('row', i, 'is', row)\n",
    "    for row in r: \n",
    "            print(row)"
   ]
  },
  {
   "cell_type": "code",
   "execution_count": 18,
   "metadata": {},
   "outputs": [
    {
     "data": {
      "text/plain": [
       "array([[ 0,  1,  2,  3,  4,  5],\n",
       "       [ 6,  7,  8,  9, 10, 11],\n",
       "       [12, 13, 14, 15, 16, 17],\n",
       "       [18, 19, 20, 21, 22, 23],\n",
       "       [24, 25, 26, 27, 28, 29],\n",
       "       [30, 31, 32, 33, 34, 35]])"
      ]
     },
     "execution_count": 18,
     "metadata": {},
     "output_type": "execute_result"
    }
   ],
   "source": [
    "#for questions 8-10: consider the following array: \n",
    "num=np.arange(36)\n",
    "num\n",
    "num.resize(6,6)\n",
    "num\n",
    "\n",
    "\n"
   ]
  },
  {
   "cell_type": "code",
   "execution_count": 19,
   "metadata": {
    "tags": []
   },
   "outputs": [
    {
     "data": {
      "text/plain": [
       "array([[ 0],\n",
       "       [ 6],\n",
       "       [12],\n",
       "       [18],\n",
       "       [24],\n",
       "       [30]])"
      ]
     },
     "execution_count": 19,
     "metadata": {},
     "output_type": "execute_result"
    }
   ],
   "source": [
    "#question 8: write code to produce every 7th element of the array - from all rows: \n",
    "\n",
    "\n",
    "num[:,::7] \n",
    "\n"
   ]
  },
  {
   "cell_type": "code",
   "execution_count": 20,
   "metadata": {},
   "outputs": [
    {
     "data": {
      "text/plain": [
       "array([[ 0],\n",
       "       [ 6],\n",
       "       [12],\n",
       "       [18],\n",
       "       [24],\n",
       "       [30]])"
      ]
     },
     "execution_count": 20,
     "metadata": {},
     "output_type": "execute_result"
    }
   ],
   "source": [
    "#question desired output:\n"
   ]
  },
  {
   "cell_type": "code",
   "execution_count": 20,
   "metadata": {
    "tags": []
   },
   "outputs": [
    {
     "data": {
      "text/plain": [
       "array([[ 0],\n",
       "       [ 6],\n",
       "       [12],\n",
       "       [18],\n",
       "       [24],\n",
       "       [30]])"
      ]
     },
     "execution_count": 20,
     "metadata": {},
     "output_type": "execute_result"
    }
   ],
   "source": [
    "#question 8: your answer goes here..\n",
    "num[:,::7]"
   ]
  },
  {
   "cell_type": "code",
   "execution_count": null,
   "metadata": {
    "collapsed": true,
    "jupyter": {
     "outputs_hidden": true
    }
   },
   "outputs": [],
   "source": [
    "#question 8: answer\n",
    "num[:,::7] #all rows, every 7th element"
   ]
  },
  {
   "cell_type": "code",
   "execution_count": 21,
   "metadata": {},
   "outputs": [
    {
     "data": {
      "text/plain": [
       "array([[14, 16],\n",
       "       [26, 28]])"
      ]
     },
     "execution_count": 21,
     "metadata": {},
     "output_type": "execute_result"
    }
   ],
   "source": [
    "#Question 9: write code to produce the following output from the num array: \n",
    " \n"
   ]
  },
  {
   "cell_type": "code",
   "execution_count": 21,
   "metadata": {
    "tags": []
   },
   "outputs": [
    {
     "data": {
      "text/plain": [
       "array([[14, 16],\n",
       "       [26, 28]])"
      ]
     },
     "execution_count": 21,
     "metadata": {},
     "output_type": "execute_result"
    }
   ],
   "source": [
    "#Question 9: your answer goes here..\n",
    "num[2::2,2::2]"
   ]
  },
  {
   "cell_type": "code",
   "execution_count": null,
   "metadata": {
    "collapsed": true,
    "jupyter": {
     "outputs_hidden": true
    }
   },
   "outputs": [],
   "source": [
    "#Question 9: answer\n",
    "num[2::2,2::2]"
   ]
  },
  {
   "cell_type": "code",
   "execution_count": 23,
   "metadata": {},
   "outputs": [
    {
     "data": {
      "text/plain": [
       "array([[0, 1, 2, 3, 4, 5]])"
      ]
     },
     "execution_count": 23,
     "metadata": {},
     "output_type": "execute_result"
    }
   ],
   "source": [
    "#Question 10: \n",
    "#display the following output using one line of code:\n"
   ]
  },
  {
   "cell_type": "code",
   "execution_count": 22,
   "metadata": {
    "tags": []
   },
   "outputs": [
    {
     "data": {
      "text/plain": [
       "array([[0, 1, 2, 3, 4, 5]])"
      ]
     },
     "execution_count": 22,
     "metadata": {},
     "output_type": "execute_result"
    }
   ],
   "source": [
    "#Question 10: your answer goes here..\n",
    "num[::7]"
   ]
  },
  {
   "cell_type": "code",
   "execution_count": null,
   "metadata": {
    "collapsed": true,
    "jupyter": {
     "outputs_hidden": true
    }
   },
   "outputs": [],
   "source": [
    "#Question 10: answer\n",
    "num[::7] #the first 6 elements of the matrix"
   ]
  }
 ],
 "metadata": {
  "kernelspec": {
   "display_name": "Python 3",
   "language": "python",
   "name": "python3"
  },
  "language_info": {
   "codemirror_mode": {
    "name": "ipython",
    "version": 3
   },
   "file_extension": ".py",
   "mimetype": "text/x-python",
   "name": "python",
   "nbconvert_exporter": "python",
   "pygments_lexer": "ipython3",
   "version": "3.8.8"
  }
 },
 "nbformat": 4,
 "nbformat_minor": 4
}
